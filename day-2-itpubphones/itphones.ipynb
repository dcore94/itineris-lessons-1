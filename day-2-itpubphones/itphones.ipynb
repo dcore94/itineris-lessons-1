{
 "cells": [
  {
   "cell_type": "code",
   "execution_count": 1,
   "id": "b24e133f-6d84-44bc-b544-f0478396f6e4",
   "metadata": {
    "tags": []
   },
   "outputs": [],
   "source": [
    "import requests\n",
    "import pandas as pd"
   ]
  },
  {
   "cell_type": "code",
   "execution_count": 4,
   "id": "60bd4afb-2bb2-42c6-93d2-0b7078641e52",
   "metadata": {
    "tags": []
   },
   "outputs": [],
   "source": [
    "resp = requests.get(\"http://www.datiopen.it/export/csv/Mappa-dei-telefoni-pubblici-in-Italia.csv\")\n",
    "if resp.ok:\n",
    "    data = resp.text\n",
    "    f = open(\"input.csv\", \"w\")\n",
    "    f.write(data)\n",
    "    f.close()"
   ]
  },
  {
   "cell_type": "code",
   "execution_count": 55,
   "id": "e71b7659-4828-4987-9d1b-36e845fc51db",
   "metadata": {
    "tags": []
   },
   "outputs": [
    {
     "data": {
      "text/html": [
       "<div>\n",
       "<style scoped>\n",
       "    .dataframe tbody tr th:only-of-type {\n",
       "        vertical-align: middle;\n",
       "    }\n",
       "\n",
       "    .dataframe tbody tr th {\n",
       "        vertical-align: top;\n",
       "    }\n",
       "\n",
       "    .dataframe thead th {\n",
       "        text-align: right;\n",
       "    }\n",
       "</style>\n",
       "<table border=\"1\" class=\"dataframe\">\n",
       "  <thead>\n",
       "    <tr style=\"text-align: right;\">\n",
       "      <th></th>\n",
       "      <th>Comune</th>\n",
       "      <th>Provincia</th>\n",
       "      <th>Regione</th>\n",
       "      <th>Nome</th>\n",
       "      <th>Anno inserimento</th>\n",
       "      <th>Data e ora inserimento</th>\n",
       "      <th>Identificatore in OpenStreetMap</th>\n",
       "      <th>Longitudine</th>\n",
       "      <th>Latitudine</th>\n",
       "    </tr>\n",
       "  </thead>\n",
       "  <tbody>\n",
       "    <tr>\n",
       "      <th>0</th>\n",
       "      <td>ALTRO</td>\n",
       "      <td>ALTRO</td>\n",
       "      <td>ALTRO</td>\n",
       "      <td>NaN</td>\n",
       "      <td>2010</td>\n",
       "      <td>2010-04-04T20:09:21Z</td>\n",
       "      <td>684571448</td>\n",
       "      <td>13.715068</td>\n",
       "      <td>46.497074</td>\n",
       "    </tr>\n",
       "    <tr>\n",
       "      <th>1</th>\n",
       "      <td>ALTRO</td>\n",
       "      <td>ALTRO</td>\n",
       "      <td>ALTRO</td>\n",
       "      <td>NaN</td>\n",
       "      <td>2010</td>\n",
       "      <td>2010-06-28T15:26:18Z</td>\n",
       "      <td>794445837</td>\n",
       "      <td>10.508641</td>\n",
       "      <td>46.875588</td>\n",
       "    </tr>\n",
       "    <tr>\n",
       "      <th>2</th>\n",
       "      <td>ALTRO</td>\n",
       "      <td>ALTRO</td>\n",
       "      <td>ALTRO</td>\n",
       "      <td>NaN</td>\n",
       "      <td>2010</td>\n",
       "      <td>2010-07-20T20:56:09Z</td>\n",
       "      <td>826760810</td>\n",
       "      <td>9.017316</td>\n",
       "      <td>45.998330</td>\n",
       "    </tr>\n",
       "    <tr>\n",
       "      <th>3</th>\n",
       "      <td>ALTRO</td>\n",
       "      <td>ALTRO</td>\n",
       "      <td>ALTRO</td>\n",
       "      <td>NaN</td>\n",
       "      <td>2010</td>\n",
       "      <td>2010-09-15T20:35:02Z</td>\n",
       "      <td>913945114</td>\n",
       "      <td>13.903188</td>\n",
       "      <td>45.621851</td>\n",
       "    </tr>\n",
       "    <tr>\n",
       "      <th>4</th>\n",
       "      <td>ALTRO</td>\n",
       "      <td>ALTRO</td>\n",
       "      <td>ALTRO</td>\n",
       "      <td>NaN</td>\n",
       "      <td>2011</td>\n",
       "      <td>2011-04-16T23:30:32Z</td>\n",
       "      <td>1247809327</td>\n",
       "      <td>9.538167</td>\n",
       "      <td>46.341037</td>\n",
       "    </tr>\n",
       "    <tr>\n",
       "      <th>...</th>\n",
       "      <td>...</td>\n",
       "      <td>...</td>\n",
       "      <td>...</td>\n",
       "      <td>...</td>\n",
       "      <td>...</td>\n",
       "      <td>...</td>\n",
       "      <td>...</td>\n",
       "      <td>...</td>\n",
       "      <td>...</td>\n",
       "    </tr>\n",
       "    <tr>\n",
       "      <th>3818</th>\n",
       "      <td>BUSNAGO</td>\n",
       "      <td>MONZA-BRIANZA</td>\n",
       "      <td>Lombardia</td>\n",
       "      <td>NaN</td>\n",
       "      <td>2015</td>\n",
       "      <td>2015-11-24T09:36:31Z</td>\n",
       "      <td>3856107275</td>\n",
       "      <td>9.465435</td>\n",
       "      <td>45.616109</td>\n",
       "    </tr>\n",
       "    <tr>\n",
       "      <th>3819</th>\n",
       "      <td>FERMO</td>\n",
       "      <td>FERMO</td>\n",
       "      <td>Marche</td>\n",
       "      <td>NaN</td>\n",
       "      <td>2012</td>\n",
       "      <td>2012-03-26T06:25:14Z</td>\n",
       "      <td>615074344</td>\n",
       "      <td>13.718606</td>\n",
       "      <td>43.160290</td>\n",
       "    </tr>\n",
       "    <tr>\n",
       "      <th>3820</th>\n",
       "      <td>ANDRIA</td>\n",
       "      <td>BARLETTA-ANDRIA-TRANI</td>\n",
       "      <td>Puglia</td>\n",
       "      <td>NaN</td>\n",
       "      <td>2009</td>\n",
       "      <td>2009-07-14T07:30:29Z</td>\n",
       "      <td>395420004</td>\n",
       "      <td>16.304417</td>\n",
       "      <td>41.231526</td>\n",
       "    </tr>\n",
       "    <tr>\n",
       "      <th>3821</th>\n",
       "      <td>CANOSA DI PUGLIA</td>\n",
       "      <td>BARLETTA-ANDRIA-TRANI</td>\n",
       "      <td>Puglia</td>\n",
       "      <td>NaN</td>\n",
       "      <td>2016</td>\n",
       "      <td>2016-02-09T09:03:48Z</td>\n",
       "      <td>3996898138</td>\n",
       "      <td>16.065573</td>\n",
       "      <td>41.222895</td>\n",
       "    </tr>\n",
       "    <tr>\n",
       "      <th>3822</th>\n",
       "      <td>CANOSA DI PUGLIA</td>\n",
       "      <td>BARLETTA-ANDRIA-TRANI</td>\n",
       "      <td>Puglia</td>\n",
       "      <td>NaN</td>\n",
       "      <td>2016</td>\n",
       "      <td>2016-02-09T09:03:48Z</td>\n",
       "      <td>3996898145</td>\n",
       "      <td>16.066652</td>\n",
       "      <td>41.221489</td>\n",
       "    </tr>\n",
       "  </tbody>\n",
       "</table>\n",
       "<p>3823 rows × 9 columns</p>\n",
       "</div>"
      ],
      "text/plain": [
       "                Comune              Provincia    Regione Nome  \\\n",
       "0                ALTRO                  ALTRO      ALTRO  NaN   \n",
       "1                ALTRO                  ALTRO      ALTRO  NaN   \n",
       "2                ALTRO                  ALTRO      ALTRO  NaN   \n",
       "3                ALTRO                  ALTRO      ALTRO  NaN   \n",
       "4                ALTRO                  ALTRO      ALTRO  NaN   \n",
       "...                ...                    ...        ...  ...   \n",
       "3818           BUSNAGO          MONZA-BRIANZA  Lombardia  NaN   \n",
       "3819             FERMO                  FERMO     Marche  NaN   \n",
       "3820            ANDRIA  BARLETTA-ANDRIA-TRANI     Puglia  NaN   \n",
       "3821  CANOSA DI PUGLIA  BARLETTA-ANDRIA-TRANI     Puglia  NaN   \n",
       "3822  CANOSA DI PUGLIA  BARLETTA-ANDRIA-TRANI     Puglia  NaN   \n",
       "\n",
       "      Anno inserimento Data e ora inserimento  \\\n",
       "0                 2010   2010-04-04T20:09:21Z   \n",
       "1                 2010   2010-06-28T15:26:18Z   \n",
       "2                 2010   2010-07-20T20:56:09Z   \n",
       "3                 2010   2010-09-15T20:35:02Z   \n",
       "4                 2011   2011-04-16T23:30:32Z   \n",
       "...                ...                    ...   \n",
       "3818              2015   2015-11-24T09:36:31Z   \n",
       "3819              2012   2012-03-26T06:25:14Z   \n",
       "3820              2009   2009-07-14T07:30:29Z   \n",
       "3821              2016   2016-02-09T09:03:48Z   \n",
       "3822              2016   2016-02-09T09:03:48Z   \n",
       "\n",
       "      Identificatore in OpenStreetMap  Longitudine  Latitudine  \n",
       "0                           684571448    13.715068   46.497074  \n",
       "1                           794445837    10.508641   46.875588  \n",
       "2                           826760810     9.017316   45.998330  \n",
       "3                           913945114    13.903188   45.621851  \n",
       "4                          1247809327     9.538167   46.341037  \n",
       "...                               ...          ...         ...  \n",
       "3818                       3856107275     9.465435   45.616109  \n",
       "3819                        615074344    13.718606   43.160290  \n",
       "3820                        395420004    16.304417   41.231526  \n",
       "3821                       3996898138    16.065573   41.222895  \n",
       "3822                       3996898145    16.066652   41.221489  \n",
       "\n",
       "[3823 rows x 9 columns]"
      ]
     },
     "execution_count": 55,
     "metadata": {},
     "output_type": "execute_result"
    }
   ],
   "source": [
    "df = pd.read_csv(\"input.csv\", sep=\";\")\n",
    "df"
   ]
  },
  {
   "cell_type": "code",
   "execution_count": 39,
   "id": "df56fa2a-b030-4b53-9e3b-f0737b62bcc8",
   "metadata": {
    "tags": []
   },
   "outputs": [
    {
     "data": {
      "text/plain": [
       "<Figure size 640x480 with 0 Axes>"
      ]
     },
     "metadata": {},
     "output_type": "display_data"
    }
   ],
   "source": [
    "regioni = df[\"Regione\"].unique()\n",
    "for reg in regioni:\n",
    "    dfregione = df[df[\"Regione\"] == reg]\n",
    "    dfprovincia = dfregione.groupby(\"Provincia\")[\"Provincia\"].count()\n",
    "    plot = dfprovincia.plot(kind=\"pie\", y=\"Provincia\")\n",
    "    fig = plot.get_figure()\n",
    "    fig.savefig(\"itphones_outputs/\" + reg + \".png\")\n",
    "    fig.clear()"
   ]
  },
  {
   "cell_type": "code",
   "execution_count": 40,
   "id": "78963345-bd6e-47c4-b926-ffa8e764a081",
   "metadata": {
    "tags": []
   },
   "outputs": [
    {
     "name": "stdout",
     "output_type": "stream",
     "text": [
      "Collecting folium\n",
      "  Using cached folium-0.19.5-py2.py3-none-any.whl (110 kB)\n",
      "Requirement already satisfied: branca>=0.6.0 in /opt/conda/lib/python3.10/site-packages (from folium) (0.7.1)\n",
      "Requirement already satisfied: jinja2>=2.9 in /opt/conda/lib/python3.10/site-packages (from folium) (3.1.2)\n",
      "Requirement already satisfied: numpy in /opt/conda/lib/python3.10/site-packages (from folium) (1.24.3)\n",
      "Requirement already satisfied: requests in /opt/conda/lib/python3.10/site-packages (from folium) (2.31.0)\n",
      "Requirement already satisfied: xyzservices in /opt/conda/lib/python3.10/site-packages (from folium) (2023.5.0)\n",
      "Requirement already satisfied: MarkupSafe>=2.0 in /opt/conda/lib/python3.10/site-packages (from jinja2>=2.9->folium) (2.1.2)\n",
      "Requirement already satisfied: charset-normalizer<4,>=2 in /opt/conda/lib/python3.10/site-packages (from requests->folium) (3.1.0)\n",
      "Requirement already satisfied: idna<4,>=2.5 in /opt/conda/lib/python3.10/site-packages (from requests->folium) (3.4)\n",
      "Requirement already satisfied: urllib3<3,>=1.21.1 in /opt/conda/lib/python3.10/site-packages (from requests->folium) (2.0.2)\n",
      "Requirement already satisfied: certifi>=2017.4.17 in /opt/conda/lib/python3.10/site-packages (from requests->folium) (2024.2.2)\n",
      "Installing collected packages: folium\n",
      "Successfully installed folium-0.19.5\n",
      "Note: you may need to restart the kernel to use updated packages.\n"
     ]
    }
   ],
   "source": [
    "pip install folium"
   ]
  },
  {
   "cell_type": "code",
   "execution_count": 41,
   "id": "b487c892-f5a4-4134-806d-138ea09780b8",
   "metadata": {
    "tags": []
   },
   "outputs": [
    {
     "data": {
      "text/plain": [
       "['Choropleth',\n",
       " 'Circle',\n",
       " 'CircleMarker',\n",
       " 'ClickForLatLng',\n",
       " 'ClickForMarker',\n",
       " 'ColorLine',\n",
       " 'ColorMap',\n",
       " 'CssLink',\n",
       " 'CustomIcon',\n",
       " 'Div',\n",
       " 'DivIcon',\n",
       " 'Element',\n",
       " 'FeatureGroup',\n",
       " 'Figure',\n",
       " 'FitBounds',\n",
       " 'FitOverlays',\n",
       " 'GeoJson',\n",
       " 'GeoJsonPopup',\n",
       " 'GeoJsonTooltip',\n",
       " 'Html',\n",
       " 'IFrame',\n",
       " 'Icon',\n",
       " 'JavascriptLink',\n",
       " 'JsCode',\n",
       " 'LatLngPopup',\n",
       " 'LayerControl',\n",
       " 'LinearColormap',\n",
       " 'Link',\n",
       " 'MacroElement',\n",
       " 'Map',\n",
       " 'Marker',\n",
       " 'PolyLine',\n",
       " 'Polygon',\n",
       " 'Popup',\n",
       " 'Rectangle',\n",
       " 'RegularPolygonMarker',\n",
       " 'StepColormap',\n",
       " 'TileLayer',\n",
       " 'Tooltip',\n",
       " 'TopoJson',\n",
       " 'Vega',\n",
       " 'VegaLite',\n",
       " 'WmsTileLayer',\n",
       " '__all__',\n",
       " '__builtins__',\n",
       " '__cached__',\n",
       " '__doc__',\n",
       " '__file__',\n",
       " '__loader__',\n",
       " '__name__',\n",
       " '__package__',\n",
       " '__path__',\n",
       " '__spec__',\n",
       " '__version__',\n",
       " '_version',\n",
       " 'branca',\n",
       " 'elements',\n",
       " 'features',\n",
       " 'folium',\n",
       " 'map',\n",
       " 'raster_layers',\n",
       " 'template',\n",
       " 'utilities',\n",
       " 'vector_layers']"
      ]
     },
     "execution_count": 41,
     "metadata": {},
     "output_type": "execute_result"
    }
   ],
   "source": [
    "import folium\n",
    "dir(folium)"
   ]
  },
  {
   "cell_type": "code",
   "execution_count": 70,
   "id": "e026a6d1-2926-4823-a22e-7f7cf024461b",
   "metadata": {
    "tags": []
   },
   "outputs": [],
   "source": [
    "from datetime import datetime\n",
    "timeoffset = -8\n",
    "center = (41.902782, 12.496366)\n",
    "bounds = [[42.62115209225544, 15.669698244577547], [39.04096044837196, 19.97861416589663]]\n",
    "colors = [\"darkgreen\",\"green\",\"orange\",\"red\"]\n",
    "locations = list(zip(df[\"Latitudine\"], df[\"Longitudine\"]))\n",
    "m = folium.Map(center, zoom_start=7)\n",
    "m.fit_bounds(bounds)\n",
    "for i in range(len(locations)):\n",
    "    loc = locations[i]\n",
    "    isinside = (loc[0] <= bounds[0][0] and loc[0] >= bounds[1][0]) and (loc[1] >= bounds[0][1] and loc[1] <= bounds[1][1])\n",
    "    if isinside:\n",
    "        insdate = int(df[\"Anno inserimento\"][i])\n",
    "        agecolorindex = min(3, (datetime.now().year + timeoffset - insdate) // 2)\n",
    "        color = colors[agecolorindex]\n",
    "        icon = folium.Icon(color=color, fill_color=color)\n",
    "        folium.Marker([loc[0], loc[1]], icon=icon).add_to(m)\n",
    "m.save(\"itphones_outputs/index.html\")"
   ]
  },
  {
   "cell_type": "code",
   "execution_count": 60,
   "id": "70bd1b56-ae8d-4970-9d19-4e75b47fb37d",
   "metadata": {
    "tags": []
   },
   "outputs": [
    {
     "data": {
      "text/plain": [
       "5"
      ]
     },
     "execution_count": 60,
     "metadata": {},
     "output_type": "execute_result"
    }
   ],
   "source": [
    "import date\n"
   ]
  }
 ],
 "metadata": {
  "kernelspec": {
   "display_name": "Python 3 (ipykernel)",
   "language": "python",
   "name": "python3"
  },
  "language_info": {
   "codemirror_mode": {
    "name": "ipython",
    "version": 3
   },
   "file_extension": ".py",
   "mimetype": "text/x-python",
   "name": "python",
   "nbconvert_exporter": "python",
   "pygments_lexer": "ipython3",
   "version": "3.10.11"
  }
 },
 "nbformat": 4,
 "nbformat_minor": 5
}
