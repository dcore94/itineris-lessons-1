{
 "cells": [
  {
   "cell_type": "code",
   "execution_count": 36,
   "id": "0be2421a-4581-4aad-8ff6-c54bef30965e",
   "metadata": {
    "tags": []
   },
   "outputs": [],
   "source": [
    "import requests\n",
    "import json\n",
    "files = { \"image\" : open(\"Marco.jpg\", \"rb\")}\n",
    "resp = requests.post(\"https://asc.habiliseurope.com/face-service/process\", files=files)\n",
    "json.dump(resp.json(), open(\"embeddings-marco.json\", \"w\"))"
   ]
  },
  {
   "cell_type": "code",
   "execution_count": 13,
   "id": "53edc4e9-e5ab-42c2-9e62-faa9a0f6f6bb",
   "metadata": {
    "tags": []
   },
   "outputs": [
    {
     "data": {
      "text/plain": [
       "[{'match': False, 'similarity': 0.4073483920088131},\n",
       " {'match': False, 'similarity': 0.17019717348296282},\n",
       " {'match': True, 'similarity': 0.7608417798114866}]"
      ]
     },
     "execution_count": 13,
     "metadata": {},
     "output_type": "execute_result"
    }
   ],
   "source": [
    "import json\n",
    "\n",
    "emb1 = json.load(open(\"embeddings.json\"))\n",
    "emb2 = json.load(open(\"embeddings2.json\"))\n",
    "\n",
    "reqjson = {\n",
    "    \"target\" : emb1[0][\"embedding\"],\n",
    "    \"sources\" : [emb[\"embedding\"] for emb in emb2],\n",
    "    \"threshold\" : 0.7\n",
    "}\n",
    "\n",
    "resp = requests.post(\"https://asc.habiliseurope.com/face-service/compare\", json=reqjson)\n",
    "resp.json()"
   ]
  },
  {
   "cell_type": "code",
   "execution_count": 34,
   "id": "a6b7f787-1777-45db-a376-b65e88c593f9",
   "metadata": {
    "tags": []
   },
   "outputs": [],
   "source": [
    "from PIL import Image, ImageDraw, ImageFont\n",
    "\n",
    "emb2 = json.load(open(\"embeddings-corso.json\"))\n",
    "image = Image.open(\"gruppo-corso.jpg\")\n",
    "draw = ImageDraw.Draw(image)\n",
    "try:\n",
    "    font = ImageFont.truetype(\"/usr/share/fonts/truetype/dejavu/DejaVuSans.ttf\", size=100)\n",
    "except IOError:\n",
    "    font = ImageFont.load_default()\n",
    "\n",
    "for emb in emb2:\n",
    "    box = tuple(emb[\"box\"])\n",
    "    color = \"red\" if emb[\"confidence\"] < 0.9 else \"green\"\n",
    "    draw.rectangle(box, width=3, outline=color)\n",
    "    confidence = round(100 * emb[\"confidence\"])\n",
    "    draw.text((box[0], box[3]), str(confidence) + \"%\", fill=\"cyan\", font=font)\n",
    "\n",
    "image.save(\"labelled_gruppo-corso.jpeg\")"
   ]
  },
  {
   "cell_type": "code",
   "execution_count": 39,
   "id": "1e65a0e6-4a67-4bcb-b5d5-82e690c4c7f9",
   "metadata": {
    "tags": []
   },
   "outputs": [
    {
     "name": "stdout",
     "output_type": "stream",
     "text": [
      "[{'match': False, 'similarity': 0.17992300049751675}, {'match': False, 'similarity': 0.24792434261952556}, {'match': False, 'similarity': -0.06868963943533934}, {'match': False, 'similarity': 0.07500252732328139}, {'match': False, 'similarity': -0.1042637256608443}, {'match': False, 'similarity': 0.1408155130181602}, {'match': True, 'similarity': 0.572850610115463}, {'match': False, 'similarity': 0.07530882049946186}, {'match': False, 'similarity': 0.10150518296249933}, {'match': False, 'similarity': 0.01634554460137838}, {'match': False, 'similarity': 0.3208911363480338}]\n"
     ]
    }
   ],
   "source": [
    "from PIL import Image, ImageDraw, ImageFont\n",
    "\n",
    "tgt_embs = json.load(open(\"embeddings-marco.json\"))\n",
    "src_embs = json.load(open(\"embeddings-corso.json\"))\n",
    "\n",
    "image = Image.open(\"gruppo-corso.jpg\")\n",
    "draw = ImageDraw.Draw(image)\n",
    "try:\n",
    "    font = ImageFont.truetype(\"itineris-dataspace/DejaVuSans.ttf\", size=25)\n",
    "except IOError:\n",
    "    font = ImageFont.load_default()\n",
    "\n",
    "sources = [ src[\"embedding\"] for src in src_embs ]\n",
    "    \n",
    "for tgt in tgt_embs:\n",
    "    tgt_emb = tgt[\"embedding\"]\n",
    "    reqjson = {\n",
    "        \"target\" : tgt_emb,\n",
    "        \"sources\" : sources,\n",
    "        \"threshold\" : 0.5\n",
    "    }\n",
    "    resp = requests.post(\"https://asc.habiliseurope.com/face-service/compare\", json=reqjson)\n",
    "    matches = resp.json()\n",
    "    print(matches)\n",
    "    for i in range(len(matches)):\n",
    "        match = matches[i]\n",
    "        if match[\"match\"]:\n",
    "            box = tuple(src_embs[i][\"box\"])\n",
    "            color = \"red\" if match[\"similarity\"] < 0.8 else \"green\"\n",
    "            draw.rectangle(box, width=3, outline=color)\n",
    "            similarity = round(100 * match[\"similarity\"])\n",
    "            draw.text((box[0], box[3]), \"Marco (\" + str(similarity) + \"%)\", fill=\"cyan\", font=font)\n",
    "\n",
    "image.save(\"compared_gruppo-corso.jpg\")"
   ]
  }
 ],
 "metadata": {
  "kernelspec": {
   "display_name": "Python 3 (ipykernel)",
   "language": "python",
   "name": "python3"
  },
  "language_info": {
   "codemirror_mode": {
    "name": "ipython",
    "version": 3
   },
   "file_extension": ".py",
   "mimetype": "text/x-python",
   "name": "python",
   "nbconvert_exporter": "python",
   "pygments_lexer": "ipython3",
   "version": "3.10.11"
  }
 },
 "nbformat": 4,
 "nbformat_minor": 5
}
